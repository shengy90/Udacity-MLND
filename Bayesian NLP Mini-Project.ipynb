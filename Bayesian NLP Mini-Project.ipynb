{
 "cells": [
  {
   "cell_type": "code",
   "execution_count": 1,
   "metadata": {
    "collapsed": true
   },
   "outputs": [],
   "source": [
    "sample_memo = '''\n",
    "Milt, we're gonna need to go ahead and move you downstairs into storage B. We have some new people coming in, and we need all the space we can get. So if you could just go ahead and pack up your stuff and move it down there, that would be terrific, OK?\n",
    "Oh, and remember: next Friday... is Hawaiian shirt day. So, you know, if you want to, go ahead and wear a Hawaiian shirt and jeans.\n",
    "Oh, oh, and I almost forgot. Ahh, I'm also gonna need you to go ahead and come in on Sunday, too...\n",
    "Hello Peter, whats happening? Ummm, I'm gonna need you to go ahead and come in tomorrow. So if you could be here around 9 that would be great, mmmk... oh oh! and I almost forgot ahh, I'm also gonna need you to go ahead and come in on Sunday too, kay. We ahh lost some people this week and ah, we sorta need to play catch up.\n",
    "'''"
   ]
  },
  {
   "cell_type": "code",
   "execution_count": 4,
   "metadata": {
    "collapsed": true
   },
   "outputs": [],
   "source": [
    "#   Maximum Likelihood Hypothesis\n",
    "#\n",
    "#\n",
    "#   In this quiz we will find the maximum likelihood word based on the preceding word\n",
    "#\n",
    "#   Fill in the NextWordProbability procedure so that it takes in sample text and a word,\n",
    "#   and returns a dictionary with keys the set of words that come after, whose values are\n",
    "#   the number of times the key comes after that word.\n",
    "#   \n",
    "#   Just use .split() to split the sample_memo text into words separated by spaces."
   ]
  },
  {
   "cell_type": "code",
   "execution_count": 50,
   "metadata": {
    "collapsed": false
   },
   "outputs": [],
   "source": [
    "def NextWordProbability(sampletext,word):\n",
    "    \n",
    "    wordlist = sampletext.split(word)\n",
    "    worddict={}\n",
    "    for i in range(1,len(wordlist)):\n",
    "        words = wordlist[i].split()\n",
    "        if words[0] in worddict:\n",
    "            worddict[words[0]] = worddict[words[0]]+1\n",
    "        else:\n",
    "            worddict[words[0]]=1\n",
    "    return worddict"
   ]
  },
  {
   "cell_type": "code",
   "execution_count": 127,
   "metadata": {
    "collapsed": false
   },
   "outputs": [
    {
     "data": {
      "text/plain": [
       "{'go': 1}"
      ]
     },
     "execution_count": 127,
     "metadata": {},
     "output_type": "execute_result"
    }
   ],
   "source": [
    "NextWordProbability(sample_memo, \"just \")\n"
   ]
  },
  {
   "cell_type": "code",
   "execution_count": 136,
   "metadata": {
    "collapsed": false
   },
   "outputs": [
    {
     "data": {
      "text/plain": [
       "{'great,': 1, 'here': 1, 'terrific,': 1}"
      ]
     },
     "execution_count": 136,
     "metadata": {},
     "output_type": "execute_result"
    }
   ],
   "source": [
    "NextWordProbability(sample_memo, \"be \" )"
   ]
  },
  {
   "cell_type": "code",
   "execution_count": 134,
   "metadata": {
    "collapsed": true
   },
   "outputs": [],
   "source": [
    "#------------------------------------------------------------------\n",
    "\n",
    "#\n",
    "#   Bayes Optimal Classifier\n",
    "#\n",
    "#   In this quiz we will compute the optimal label for a second missing word in a row\n",
    "#   based on the possible words that could be in the first blank\n",
    "#\n",
    "#   Finish the procedurce, LaterWords(), below\n",
    "#\n",
    "#   You may want to import your code from the previous programming exercise!\n",
    "#\n",
    "\n",
    "sample_memo = '''\n",
    "Milt, we're gonna need to go ahead and move you downstairs into storage B. We have some new people coming in, and we need all the space we can get. So if you could just go ahead and pack up your stuff and move it down there, that would be terrific, OK?\n",
    "Oh, and remember: next Friday... is Hawaiian shirt day. So, you know, if you want to, go ahead and wear a Hawaiian shirt and jeans.\n",
    "Oh, oh, and I almost forgot. Ahh, I'm also gonna need you to go ahead and come in on Sunday, too...\n",
    "Hello Peter, whats happening? Ummm, I'm gonna need you to go ahead and come in tomorrow. So if you could be here around 9 that would be great, mmmk... oh oh! and I almost forgot ahh, I'm also gonna need you to go ahead and come in on Sunday too, kay. We ahh lost some people this week and ah, we sorta need to play catch up.\n",
    "'''\n",
    "\n",
    "corrupted_memo = '''\n",
    "Yeah, I'm gonna --- you to go ahead --- --- complain about this. Oh, and if you could --- --- and sit at the kids' table, that'd be --- \n",
    "'''"
   ]
  },
  {
   "cell_type": "code",
   "execution_count": 61,
   "metadata": {
    "collapsed": true
   },
   "outputs": [],
   "source": [
    "data_list = sample_memo.strip().split()\n",
    "words_to_guess = [\"ahead\",\"could\"]"
   ]
  },
  {
   "cell_type": "code",
   "execution_count": 345,
   "metadata": {
    "collapsed": false
   },
   "outputs": [
    {
     "data": {
      "text/plain": [
       "'in'"
      ]
     },
     "execution_count": 345,
     "metadata": {},
     "output_type": "execute_result"
    }
   ],
   "source": [
    "\n",
    "def LaterWords(sample,word,distance):\n",
    "    '''\n",
    "    @param sample: a sample of text to draw from\n",
    "    @param word: a word occuring before a corrupted sequence\n",
    "    @param distance: how many words later to estimate (i.e. 1 for the next word, 2 for the word after that)\n",
    "    @returns: a single word which is the most likely possibility\n",
    "    '''\n",
    "    import numpy as np\n",
    "    # TODO: Given a word, collect the relative probabilities of possible following words\n",
    "    # from @sample. You may want to import your code from the maximum likelihood exercise.\n",
    "    \n",
    "#     # TODO: Repeat the above process--for each distance beyond 1, evaluate the words that\n",
    "#     # might come after each word, and combine them weighting by relative probability\n",
    "#     # into an estimate of what might appear next.\n",
    "\n",
    "\n",
    "\n",
    "    \n",
    "    Output_Dict = {}\n",
    "    word1_dict = NextWordProbability(sample,word)\n",
    "    word1_sumfreq = np.sum(word1_dict.values())\n",
    "    \n",
    "    for word1 in word1_dict:\n",
    "        word1_prob = word1_dict[word1]/float(word1_sumfreq)\n",
    "        \n",
    "        if word1 not in Output_Dict:\n",
    "            Output_Dict[word1]=word1_prob\n",
    "        else:\n",
    "            Output_Dict[word1]+=word1_prob\n",
    "\n",
    "\n",
    "    dist = 2\n",
    "    while distance > 1 and dist < distance+1:\n",
    "        next_dict = {}\n",
    "        for nextword in Output_Dict:\n",
    "            nextword_dict = NextWordProbability(sample, nextword)\n",
    "            nextword_sumfreq = np.sum(nextword_dict.values())\n",
    "            \n",
    "            for word2 in nextword_dict:\n",
    "                word2_prob = Output_Dict[nextword]*nextword_dict[word2]/float(nextword_sumfreq)\n",
    "\n",
    "                if word2 not in next_dict:\n",
    "                    next_dict[word2]= word2_prob\n",
    "                else:\n",
    "                    next_dict[word2]+=word2_prob\n",
    "                \n",
    "        Output_Dict = next_dict\n",
    "        dist+=1\n",
    "            \n",
    "\n",
    "    \n",
    "        \n",
    "        \n",
    "    #return the max count\n",
    "    import operator\n",
    "    ML_Word = max(Output_Dict.iteritems(), key=operator.itemgetter(1))[0]\n",
    "    \n",
    "    return ML_Word\n",
    "    \n",
    "LaterWords(sample_memo,\"ahead\",3)\n",
    "    \n"
   ]
  },
  {
   "cell_type": "code",
   "execution_count": null,
   "metadata": {
    "collapsed": true
   },
   "outputs": [],
   "source": []
  }
 ],
 "metadata": {
  "anaconda-cloud": {},
  "kernelspec": {
   "display_name": "Python [conda env:gl-env]",
   "language": "python",
   "name": "conda-env-gl-env-py"
  },
  "language_info": {
   "codemirror_mode": {
    "name": "ipython",
    "version": 2
   },
   "file_extension": ".py",
   "mimetype": "text/x-python",
   "name": "python",
   "nbconvert_exporter": "python",
   "pygments_lexer": "ipython2",
   "version": "2.7.11"
  }
 },
 "nbformat": 4,
 "nbformat_minor": 1
}
