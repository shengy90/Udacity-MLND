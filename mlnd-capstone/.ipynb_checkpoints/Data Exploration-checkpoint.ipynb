{
 "cells": [
  {
   "cell_type": "markdown",
   "metadata": {},
   "source": [
    "# Import Data Set"
   ]
  },
  {
   "cell_type": "code",
   "execution_count": 1,
   "metadata": {
    "collapsed": false
   },
   "outputs": [],
   "source": [
    "import pandas as pd\n",
    "import numpy as np\n",
    "from __future__ import print_function\n",
    "\n",
    "import matplotlib.pyplot as plt\n",
    "%matplotlib inline\n",
    "\n",
    "\n",
    "df= pd.DataFrame\n",
    "train = pd.read_csv('train.csv')"
   ]
  },
  {
   "cell_type": "markdown",
   "metadata": {},
   "source": [
    "# Exploring Data Set"
   ]
  },
  {
   "cell_type": "code",
   "execution_count": 2,
   "metadata": {
    "collapsed": false
   },
   "outputs": [
    {
     "data": {
      "text/html": [
       "<div>\n",
       "<table border=\"1\" class=\"dataframe\">\n",
       "  <thead>\n",
       "    <tr style=\"text-align: right;\">\n",
       "      <th></th>\n",
       "      <th>TARGET</th>\n",
       "      <th>Percentage</th>\n",
       "    </tr>\n",
       "  </thead>\n",
       "  <tbody>\n",
       "    <tr>\n",
       "      <th>0</th>\n",
       "      <td>73012</td>\n",
       "      <td>96.043147</td>\n",
       "    </tr>\n",
       "    <tr>\n",
       "      <th>1</th>\n",
       "      <td>3008</td>\n",
       "      <td>3.956853</td>\n",
       "    </tr>\n",
       "  </tbody>\n",
       "</table>\n",
       "</div>"
      ],
      "text/plain": [
       "   TARGET  Percentage\n",
       "0   73012   96.043147\n",
       "1    3008    3.956853"
      ]
     },
     "execution_count": 2,
     "metadata": {},
     "output_type": "execute_result"
    }
   ],
   "source": [
    "mean = df(train.TARGET.value_counts())\n",
    "mean['Percentage'] = 100*mean['TARGET']/mean['TARGET'].sum()\n",
    "mean\n",
    "\n",
    "#Only about 4% of customers are unhappy! "
   ]
  },
  {
   "cell_type": "code",
   "execution_count": 3,
   "metadata": {
    "collapsed": false
   },
   "outputs": [
    {
     "data": {
      "text/html": [
       "<div>\n",
       "<table border=\"1\" class=\"dataframe\">\n",
       "  <thead>\n",
       "    <tr style=\"text-align: right;\">\n",
       "      <th></th>\n",
       "      <th>0</th>\n",
       "    </tr>\n",
       "  </thead>\n",
       "  <tbody>\n",
       "  </tbody>\n",
       "</table>\n",
       "</div>"
      ],
      "text/plain": [
       "Empty DataFrame\n",
       "Columns: [0]\n",
       "Index: []"
      ]
     },
     "execution_count": 3,
     "metadata": {},
     "output_type": "execute_result"
    }
   ],
   "source": [
    "#Check for null data\n",
    "nullcols=df(train.isnull().sum())\n",
    "nullcols[nullcols[0]>0]\n",
    "\n",
    "#No null data detected!"
   ]
  },
  {
   "cell_type": "code",
   "execution_count": 4,
   "metadata": {
    "collapsed": false
   },
   "outputs": [
    {
     "data": {
      "text/html": [
       "<div>\n",
       "<table border=\"1\" class=\"dataframe\">\n",
       "  <thead>\n",
       "    <tr style=\"text-align: right;\">\n",
       "      <th></th>\n",
       "      <th>dtype</th>\n",
       "      <th>Percentage</th>\n",
       "    </tr>\n",
       "  </thead>\n",
       "  <tbody>\n",
       "    <tr>\n",
       "      <th>int64</th>\n",
       "      <td>260</td>\n",
       "      <td>70.080863</td>\n",
       "    </tr>\n",
       "    <tr>\n",
       "      <th>float64</th>\n",
       "      <td>111</td>\n",
       "      <td>29.919137</td>\n",
       "    </tr>\n",
       "  </tbody>\n",
       "</table>\n",
       "</div>"
      ],
      "text/plain": [
       "         dtype  Percentage\n",
       "int64      260   70.080863\n",
       "float64    111   29.919137"
      ]
     },
     "execution_count": 4,
     "metadata": {},
     "output_type": "execute_result"
    }
   ],
   "source": [
    "variables=df(columns=['count','dtype'])\n",
    "for column in train.keys():\n",
    "    col_count = df(train[column].value_counts()).sort_index()\n",
    "    datatype = train[column].dtype\n",
    "    variables.loc[column]=[len(col_count),datatype]\n",
    "\n",
    "variables['cat_cont']=0\n",
    "\n",
    "\n",
    "# variables[variables.cat_cont==0].sort_values('count')\n",
    "dtype=df(variables.dtype.value_counts())\n",
    "dtype['Percentage'] = 100*dtype['dtype']/dtype['dtype'].sum()\n",
    "dtype\n",
    "\n",
    "#70% of columns have integer variables - potentially categorical.\n",
    "#111 columns have floating variables - potentially continuous"
   ]
  },
  {
   "cell_type": "code",
   "execution_count": 5,
   "metadata": {
    "collapsed": false
   },
   "outputs": [
    {
     "data": {
      "text/plain": [
       "<matplotlib.text.Text at 0x115947890>"
      ]
     },
     "execution_count": 5,
     "metadata": {},
     "output_type": "execute_result"
    },
    {
     "data": {
      "image/png": "[encoded data removed]",
      "text/plain": [
       "<matplotlib.figure.Figure at 0x1152dd6d0>"
      ]
     },
     "metadata": {},
     "output_type": "display_data"
    },
    {
     "data": {
      "image/png": "[encoded data removed]",
      "text/plain": [
       "<matplotlib.figure.Figure at 0x115920250>"
      ]
     },
     "metadata": {},
     "output_type": "display_data"
    }
   ],
   "source": [
    "#Select columns with integer/floating values and check the variables\n",
    "\n",
    "def floatvsint(table,datatype):\n",
    "    for column in datatype.keys():\n",
    "        if column != 'ID':\n",
    "            col_count = df(datatype[column].value_counts()).sort_index()\n",
    "            table.loc[column]=len(col_count)\n",
    "        else: \n",
    "            pass\n",
    "    return table\n",
    "\n",
    "#Float variables\n",
    "float_variables=df(columns=['count'])\n",
    "floating = train.select_dtypes(include=['float'])\n",
    "\n",
    "float_variables = floatvsint(float_variables, floating)\n",
    "float_variables.hist(bins=len(float_variables))\n",
    "plt.title('floating variables')\n",
    "plt.xlabel(\"range\")\n",
    "plt.ylabel('number of features')\n",
    "\n",
    "#Int variables\n",
    "int_variables=df(columns=['count'])\n",
    "integers = train.select_dtypes(include=['int'])\n",
    "        \n",
    "\n",
    "int_variables = floatvsint(int_variables, integers)\n",
    "int_variables.hist(bins=len(int_variables))\n",
    "plt.title('integer variables')\n",
    "plt.xlabel(\"number of 'categories'\")\n",
    "plt.ylabel('number of features')"
   ]
  },
  {
   "cell_type": "markdown",
   "metadata": {},
   "source": [
    "Majority of the variables with dtype='int' have less than 50 categories. Those with a lot of categories could actually be continuous variables but stored as an integer rather than a floating variable, e.g. age. We might want to look into these further to determine which are categorical and which are continuous.\n",
    "\n",
    "A lot of variables with dtype = 'float' have very small ranges. We might want to look into these to see if these are indeed 'continuous', or they are actually categorical but just stored with a floating data type.\n",
    "\n",
    "The whole point of trying to understand if a variable is 'continuous' or 'categorical' is so that we might have to create new dummy variables for continuous variables / categorical variables with a lot of categories. "
   ]
  },
  {
   "cell_type": "code",
   "execution_count": 6,
   "metadata": {
    "collapsed": false
   },
   "outputs": [
    {
     "data": {
      "image/png": "[encoded data removed]",
      "text/plain": [
       "<matplotlib.figure.Figure at 0x11490f410>"
      ]
     },
     "metadata": {},
     "output_type": "display_data"
    },
    {
     "data": {
      "image/png": "[encoded data removed]",
      "text/plain": [
       "<matplotlib.figure.Figure at 0x116869350>"
      ]
     },
     "metadata": {},
     "output_type": "display_data"
    },
    {
     "data": {
      "image/png": "[encoded data removed]",
      "text/plain": [
       "<matplotlib.figure.Figure at 0x116b81710>"
      ]
     },
     "metadata": {},
     "output_type": "display_data"
    }
   ],
   "source": [
    "#Checking variables with 'int' dtype\n",
    "def leX(table, upper_limit):\n",
    "    dataset = table[table['count']<upper_limit]\n",
    "    dataset.hist(bins=len(dataset))\n",
    "    plt.title('upper limit = '+str(upper_limit))\n",
    "    plt.xlabel(\"number of 'categories'\")\n",
    "    plt.ylabel('number of features')\n",
    "\n",
    "leX(int_variables,100)\n",
    "leX(int_variables,40)\n",
    "leX(int_variables,10)"
   ]
  },
  {
   "cell_type": "markdown",
   "metadata": {},
   "source": [
    "Majority of the features with dtype='int' are 'categorical'. About ~40 features have only 1 category - redundant columns (could get rid of them). Majority of the features (~150) have LE 10 categories (categorical).\n",
    "\n",
    "Next steps: \n",
    "\n",
    " 1. drop features that only have 1 'category'. \n",
    " 2. Classify features with only LE 10 categories as 'categorical'.\n",
    " 3. Classify features with GT 10 categories as 'continuous'\n"
   ]
  },
  {
   "cell_type": "code",
   "execution_count": 7,
   "metadata": {
    "collapsed": false
   },
   "outputs": [
    {
     "name": "stdout",
     "output_type": "stream",
     "text": [
      "47\n"
     ]
    }
   ],
   "source": [
    "variables.loc[(variables['dtype'] =='int64') & (variables['count'] < 2), 'cat_cont']='drop'\n",
    "variables.loc[(variables['dtype'] =='int64') & (variables['count'] < 11)\n",
    "                                             & (variables['count'] > 1), 'cat_cont']='categorical'\n",
    "remaining = variables[(variables['dtype']=='int64') & (variables['cat_cont'] == 0)]\n",
    "print(len(remaining))"
   ]
  },
  {
   "cell_type": "code",
   "execution_count": 8,
   "metadata": {
    "collapsed": false
   },
   "outputs": [
    {
     "name": "stdout",
     "output_type": "stream",
     "text": [
      "Index([u'ID', u'var3', u'var15', u'num_var17_0', u'num_op_var40_hace2',\n",
      "       u'num_op_var40_ult1', u'num_op_var40_ult3', u'num_op_var41_hace2',\n",
      "       u'num_op_var41_hace3', u'num_op_var41_ult1', u'num_op_var41_ult3',\n",
      "       u'num_op_var39_hace2', u'num_op_var39_hace3', u'num_op_var39_ult1',\n",
      "       u'num_op_var39_ult3', u'num_var30_0', u'num_var31_0', u'num_var35',\n",
      "       u'num_var37_med_ult2', u'num_var37_0', u'num_var37',\n",
      "       u'imp_aport_var33_hace3', u'var21', u'num_ent_var16_ult1',\n",
      "       u'num_var22_hace2', u'num_var22_hace3', u'num_var22_ult1',\n",
      "       u'num_var22_ult3', u'num_med_var22_ult3', u'num_med_var45_ult3',\n",
      "       u'num_op_var39_comer_ult1', u'num_op_var39_comer_ult3',\n",
      "       u'num_op_var40_comer_ult1', u'num_op_var40_comer_ult3',\n",
      "       u'num_op_var41_comer_ult1', u'num_op_var41_comer_ult3',\n",
      "       u'num_op_var41_efect_ult1', u'num_op_var41_efect_ult3',\n",
      "       u'num_op_var39_efect_ult1', u'num_op_var39_efect_ult3',\n",
      "       u'num_var43_emit_ult1', u'num_var43_recib_ult1',\n",
      "       u'num_trasp_var11_ult1', u'num_var45_hace2', u'num_var45_hace3',\n",
      "       u'num_var45_ult1', u'num_var45_ult3'],\n",
      "      dtype='object')\n"
     ]
    }
   ],
   "source": [
    "print(remaining.index)\n",
    "def plot_varhist(plotvar):\n",
    "    var=plotvar.name\n",
    "    bins = len(plotvar.value_counts().sort_index())\n",
    "    plt.hist(plotvar, bins=bins)\n",
    "    plt.title(var)\n",
    "    plt.xlabel(var)\n",
    "    plt.ylabel('number of observations')\n",
    "    plt.show()    "
   ]
  },
  {
   "cell_type": "markdown",
   "metadata": {},
   "source": [
    "##### Checking Var3 column"
   ]
  },
  {
   "cell_type": "code",
   "execution_count": 9,
   "metadata": {
    "collapsed": false
   },
   "outputs": [
    {
     "data": {
      "image/png": "[encoded data removed]",
      "text/plain": [
       "<matplotlib.figure.Figure at 0x116c30d50>"
      ]
     },
     "metadata": {},
     "output_type": "display_data"
    },
    {
     "name": "stdout",
     "output_type": "stream",
     "text": [
      "number of var3 < 0:  116\n",
      "number of var3 = 2:  74165\n",
      "max var3 :  238\n",
      "min var3 :  -999999\n",
      "mode var3 (gt 2):  8\n",
      "median var3 (gt 2):  11.0\n",
      "Total var3 observations:  76020\n"
     ]
    }
   ],
   "source": [
    "var3 = train.var3\n",
    "var3gt2 = train[train['var3']>2]['var3']\n",
    "plot_varhist(var3gt2)\n",
    "\n",
    "\n",
    "print(\"number of var3 < 0: \", len(train[train['var3']<0]))\n",
    "print(\"number of var3 = 2: \", len(train[train['var3']==2]))\n",
    "print(\"max var3 : \", var3gt2.max())\n",
    "print(\"min var3 : \", var3.min())\n",
    "print(\"mode var3 (gt 2): \", var3gt2.mode()[0])\n",
    "print(\"median var3 (gt 2): \", var3gt2.median())\n",
    "print(\"Total var3 observations: \", len(train))\n",
    "\n",
    "variables.loc['var3','cat_cont']='continuous'"
   ]
  },
  {
   "cell_type": "markdown",
   "metadata": {},
   "source": [
    "Majority of Var3 have values = 2. 116 have value = -99999. Rest have values spread around 3 - 238 (mode=8m, median = 11). Could potentially treat var3 as a continuous variable."
   ]
  },
  {
   "cell_type": "markdown",
   "metadata": {},
   "source": [
    "##### Checking Var15 column"
   ]
  },
  {
   "cell_type": "code",
   "execution_count": 10,
   "metadata": {
    "collapsed": false
   },
   "outputs": [
    {
     "data": {
      "image/png": "[encoded data removed]",
      "text/plain": [
       "<matplotlib.figure.Figure at 0x11752b650>"
      ]
     },
     "metadata": {},
     "output_type": "display_data"
    },
    {
     "name": "stdout",
     "output_type": "stream",
     "text": [
      "number of var15 < 20:  242\n",
      "max var15 :  105\n",
      "min var15 :  5\n",
      "mode var15 (gt 20):  23\n",
      "median var15 (gt 20):  28.0\n",
      "Total var15 observations:  76020\n"
     ]
    }
   ],
   "source": [
    "var15 = train.var15\n",
    "var15gt20 = train[train['var15']>20].var15\n",
    "\n",
    "\n",
    "plot_varhist(var15gt20)\n",
    "\n",
    "print(\"number of var15 < 20: \", len(train[train['var15']<20]))\n",
    "print(\"max var15 : \", var15gt20.max())\n",
    "print(\"min var15 : \", var15.min())\n",
    "print(\"mode var15 (gt 20): \", var15gt20.mode()[0])\n",
    "print(\"median var15 (gt 20): \", var15gt20.median())\n",
    "print(\"Total var15 observations: \", len(train))\n",
    "\n",
    "variables.loc['var15','cat_cont']='continuous'"
   ]
  },
  {
   "cell_type": "markdown",
   "metadata": {},
   "source": [
    "Majority of Var15 is 23. About 242 observation has var15 = 5. Median var15 is 28, max var15 is 105. Var 15 looks a little bit like 'age'! Treat var15 as continuous (age is a continuous variable)"
   ]
  },
  {
   "cell_type": "code",
   "execution_count": 11,
   "metadata": {
    "collapsed": false
   },
   "outputs": [
    {
     "data": {
      "image/png": "[encoded data removed]",
      "text/plain": [
       "<matplotlib.figure.Figure at 0x115366590>"
      ]
     },
     "metadata": {},
     "output_type": "display_data"
    },
    {
     "data": {
      "image/png": "[encoded data removed]",
      "text/plain": [
       "<matplotlib.figure.Figure at 0x12034e7d0>"
      ]
     },
     "metadata": {},
     "output_type": "display_data"
    },
    {
     "data": {
      "image/png": "[encoded data removed]",
      "text/plain": [
       "<matplotlib.figure.Figure at 0x1155edd50>"
      ]
     },
     "metadata": {},
     "output_type": "display_data"
    }
   ],
   "source": [
    "leX(float_variables,60000)\n",
    "leX(float_variables,100)\n",
    "leX(float_variables,10)"
   ]
  },
  {
   "cell_type": "markdown",
   "metadata": {},
   "source": [
    "Seems like for floating variables, there are some features that have less than 10 'categories' - could they be categorical features but their data is stored as floating point instead of integers?"
   ]
  },
  {
   "cell_type": "code",
   "execution_count": 12,
   "metadata": {
    "collapsed": false
   },
   "outputs": [
    {
     "name": "stdout",
     "output_type": "stream",
     "text": [
      "26\n",
      "Index([u'saldo_var6', u'saldo_var29', u'delta_imp_aport_var17_1y3',\n",
      "       u'delta_imp_aport_var33_1y3', u'delta_imp_venta_var44_1y3',\n",
      "       u'delta_num_aport_var13_1y3', u'delta_num_aport_var17_1y3',\n",
      "       u'delta_num_aport_var33_1y3', u'delta_num_compra_var44_1y3',\n",
      "       u'delta_num_venta_var44_1y3', u'imp_amort_var18_ult1',\n",
      "       u'imp_amort_var34_ult1', u'imp_var7_emit_ult1',\n",
      "       u'imp_reemb_var17_hace3', u'imp_trasp_var17_in_hace3',\n",
      "       u'imp_trasp_var17_in_ult1', u'imp_trasp_var17_out_ult1',\n",
      "       u'imp_trasp_var33_in_hace3', u'imp_trasp_var33_in_ult1',\n",
      "       u'imp_venta_var44_hace3', u'saldo_medio_var13_medio_hace2',\n",
      "       u'saldo_medio_var13_medio_ult3', u'saldo_medio_var29_hace2',\n",
      "       u'saldo_medio_var29_hace3', u'saldo_medio_var29_ult1',\n",
      "       u'saldo_medio_var29_ult3'],\n",
      "      dtype='object')\n"
     ]
    }
   ],
   "source": [
    "variables.loc[(variables['dtype'] =='float64') & (variables['count'] > 10), 'cat_cont']='continuous'\n",
    "remaining_float = variables[(variables['dtype']=='float') & (variables['cat_cont'] == 0)]\n",
    "print(len(remaining_float))\n",
    "print(remaining_float.index)"
   ]
  },
  {
   "cell_type": "code",
   "execution_count": null,
   "metadata": {
    "collapsed": false
   },
   "outputs": [],
   "source": [
    "for col in remaining_float.index:\n",
    "    column = train[col]\n",
    "    var=column.name\n",
    "#     bins = len(column.value_counts().sort_index())\n",
    "    bins=10\n",
    "    plt.hist(column, bins=bins)\n",
    "    plt.title(var)\n",
    "    plt.xlabel(var)\n",
    "    plt.ylabel('number of observations')\n",
    "    plt.show()    \n",
    "    print(column.value_counts())"
   ]
  },
  {
   "cell_type": "markdown",
   "metadata": {},
   "source": [
    "Data does seem to suggest that these should be classified as 'continuous' variables. However majority of the rows actually have value = 0. We could possibly create dummy variables at later stage to create a 'zero' flag and a 'non-zero' flag."
   ]
  },
  {
   "cell_type": "code",
   "execution_count": 106,
   "metadata": {
    "collapsed": true
   },
   "outputs": [],
   "source": [
    "variables.loc[(variables['dtype'] =='float64'), 'cat_cont']='continuous'\n",
    "variables.loc[(variables['cat_cont']==0)]='continuous'"
   ]
  },
  {
   "cell_type": "code",
   "execution_count": 109,
   "metadata": {
    "collapsed": false
   },
   "outputs": [
    {
     "data": {
      "text/html": [
       "<div>\n",
       "<table border=\"1\" class=\"dataframe\">\n",
       "  <thead>\n",
       "    <tr style=\"text-align: right;\">\n",
       "      <th></th>\n",
       "      <th>count</th>\n",
       "      <th>dtype</th>\n",
       "      <th>cat_cont</th>\n",
       "    </tr>\n",
       "  </thead>\n",
       "  <tbody>\n",
       "    <tr>\n",
       "      <th>ind_var2_0</th>\n",
       "      <td>1</td>\n",
       "      <td>int64</td>\n",
       "      <td>drop</td>\n",
       "    </tr>\n",
       "    <tr>\n",
       "      <th>ind_var2</th>\n",
       "      <td>1</td>\n",
       "      <td>int64</td>\n",
       "      <td>drop</td>\n",
       "    </tr>\n",
       "    <tr>\n",
       "      <th>ind_var27_0</th>\n",
       "      <td>1</td>\n",
       "      <td>int64</td>\n",
       "      <td>drop</td>\n",
       "    </tr>\n",
       "    <tr>\n",
       "      <th>ind_var28_0</th>\n",
       "      <td>1</td>\n",
       "      <td>int64</td>\n",
       "      <td>drop</td>\n",
       "    </tr>\n",
       "    <tr>\n",
       "      <th>ind_var28</th>\n",
       "      <td>1</td>\n",
       "      <td>int64</td>\n",
       "      <td>drop</td>\n",
       "    </tr>\n",
       "    <tr>\n",
       "      <th>ind_var27</th>\n",
       "      <td>1</td>\n",
       "      <td>int64</td>\n",
       "      <td>drop</td>\n",
       "    </tr>\n",
       "    <tr>\n",
       "      <th>ind_var41</th>\n",
       "      <td>1</td>\n",
       "      <td>int64</td>\n",
       "      <td>drop</td>\n",
       "    </tr>\n",
       "    <tr>\n",
       "      <th>ind_var46_0</th>\n",
       "      <td>1</td>\n",
       "      <td>int64</td>\n",
       "      <td>drop</td>\n",
       "    </tr>\n",
       "    <tr>\n",
       "      <th>ind_var46</th>\n",
       "      <td>1</td>\n",
       "      <td>int64</td>\n",
       "      <td>drop</td>\n",
       "    </tr>\n",
       "    <tr>\n",
       "      <th>num_var27_0</th>\n",
       "      <td>1</td>\n",
       "      <td>int64</td>\n",
       "      <td>drop</td>\n",
       "    </tr>\n",
       "    <tr>\n",
       "      <th>num_var28_0</th>\n",
       "      <td>1</td>\n",
       "      <td>int64</td>\n",
       "      <td>drop</td>\n",
       "    </tr>\n",
       "    <tr>\n",
       "      <th>num_var28</th>\n",
       "      <td>1</td>\n",
       "      <td>int64</td>\n",
       "      <td>drop</td>\n",
       "    </tr>\n",
       "    <tr>\n",
       "      <th>num_var27</th>\n",
       "      <td>1</td>\n",
       "      <td>int64</td>\n",
       "      <td>drop</td>\n",
       "    </tr>\n",
       "    <tr>\n",
       "      <th>num_var41</th>\n",
       "      <td>1</td>\n",
       "      <td>int64</td>\n",
       "      <td>drop</td>\n",
       "    </tr>\n",
       "    <tr>\n",
       "      <th>num_var46_0</th>\n",
       "      <td>1</td>\n",
       "      <td>int64</td>\n",
       "      <td>drop</td>\n",
       "    </tr>\n",
       "    <tr>\n",
       "      <th>num_var46</th>\n",
       "      <td>1</td>\n",
       "      <td>int64</td>\n",
       "      <td>drop</td>\n",
       "    </tr>\n",
       "    <tr>\n",
       "      <th>saldo_var28</th>\n",
       "      <td>1</td>\n",
       "      <td>int64</td>\n",
       "      <td>drop</td>\n",
       "    </tr>\n",
       "    <tr>\n",
       "      <th>saldo_var27</th>\n",
       "      <td>1</td>\n",
       "      <td>int64</td>\n",
       "      <td>drop</td>\n",
       "    </tr>\n",
       "    <tr>\n",
       "      <th>saldo_var41</th>\n",
       "      <td>1</td>\n",
       "      <td>int64</td>\n",
       "      <td>drop</td>\n",
       "    </tr>\n",
       "    <tr>\n",
       "      <th>saldo_var46</th>\n",
       "      <td>1</td>\n",
       "      <td>int64</td>\n",
       "      <td>drop</td>\n",
       "    </tr>\n",
       "    <tr>\n",
       "      <th>imp_amort_var18_hace3</th>\n",
       "      <td>1</td>\n",
       "      <td>int64</td>\n",
       "      <td>drop</td>\n",
       "    </tr>\n",
       "    <tr>\n",
       "      <th>imp_amort_var34_hace3</th>\n",
       "      <td>1</td>\n",
       "      <td>int64</td>\n",
       "      <td>drop</td>\n",
       "    </tr>\n",
       "    <tr>\n",
       "      <th>imp_reemb_var13_hace3</th>\n",
       "      <td>1</td>\n",
       "      <td>int64</td>\n",
       "      <td>drop</td>\n",
       "    </tr>\n",
       "    <tr>\n",
       "      <th>imp_reemb_var33_hace3</th>\n",
       "      <td>1</td>\n",
       "      <td>int64</td>\n",
       "      <td>drop</td>\n",
       "    </tr>\n",
       "    <tr>\n",
       "      <th>imp_trasp_var17_out_hace3</th>\n",
       "      <td>1</td>\n",
       "      <td>int64</td>\n",
       "      <td>drop</td>\n",
       "    </tr>\n",
       "    <tr>\n",
       "      <th>imp_trasp_var33_out_hace3</th>\n",
       "      <td>1</td>\n",
       "      <td>int64</td>\n",
       "      <td>drop</td>\n",
       "    </tr>\n",
       "    <tr>\n",
       "      <th>num_var2_0_ult1</th>\n",
       "      <td>1</td>\n",
       "      <td>int64</td>\n",
       "      <td>drop</td>\n",
       "    </tr>\n",
       "    <tr>\n",
       "      <th>num_var2_ult1</th>\n",
       "      <td>1</td>\n",
       "      <td>int64</td>\n",
       "      <td>drop</td>\n",
       "    </tr>\n",
       "    <tr>\n",
       "      <th>num_reemb_var13_hace3</th>\n",
       "      <td>1</td>\n",
       "      <td>int64</td>\n",
       "      <td>drop</td>\n",
       "    </tr>\n",
       "    <tr>\n",
       "      <th>num_reemb_var33_hace3</th>\n",
       "      <td>1</td>\n",
       "      <td>int64</td>\n",
       "      <td>drop</td>\n",
       "    </tr>\n",
       "    <tr>\n",
       "      <th>num_trasp_var17_out_hace3</th>\n",
       "      <td>1</td>\n",
       "      <td>int64</td>\n",
       "      <td>drop</td>\n",
       "    </tr>\n",
       "    <tr>\n",
       "      <th>num_trasp_var33_out_hace3</th>\n",
       "      <td>1</td>\n",
       "      <td>int64</td>\n",
       "      <td>drop</td>\n",
       "    </tr>\n",
       "    <tr>\n",
       "      <th>saldo_var2_ult1</th>\n",
       "      <td>1</td>\n",
       "      <td>int64</td>\n",
       "      <td>drop</td>\n",
       "    </tr>\n",
       "    <tr>\n",
       "      <th>saldo_medio_var13_medio_hace3</th>\n",
       "      <td>1</td>\n",
       "      <td>int64</td>\n",
       "      <td>drop</td>\n",
       "    </tr>\n",
       "  </tbody>\n",
       "</table>\n",
       "</div>"
      ],
      "text/plain": [
       "                              count  dtype cat_cont\n",
       "ind_var2_0                        1  int64     drop\n",
       "ind_var2                          1  int64     drop\n",
       "ind_var27_0                       1  int64     drop\n",
       "ind_var28_0                       1  int64     drop\n",
       "ind_var28                         1  int64     drop\n",
       "ind_var27                         1  int64     drop\n",
       "ind_var41                         1  int64     drop\n",
       "ind_var46_0                       1  int64     drop\n",
       "ind_var46                         1  int64     drop\n",
       "num_var27_0                       1  int64     drop\n",
       "num_var28_0                       1  int64     drop\n",
       "num_var28                         1  int64     drop\n",
       "num_var27                         1  int64     drop\n",
       "num_var41                         1  int64     drop\n",
       "num_var46_0                       1  int64     drop\n",
       "num_var46                         1  int64     drop\n",
       "saldo_var28                       1  int64     drop\n",
       "saldo_var27                       1  int64     drop\n",
       "saldo_var41                       1  int64     drop\n",
       "saldo_var46                       1  int64     drop\n",
       "imp_amort_var18_hace3             1  int64     drop\n",
       "imp_amort_var34_hace3             1  int64     drop\n",
       "imp_reemb_var13_hace3             1  int64     drop\n",
       "imp_reemb_var33_hace3             1  int64     drop\n",
       "imp_trasp_var17_out_hace3         1  int64     drop\n",
       "imp_trasp_var33_out_hace3         1  int64     drop\n",
       "num_var2_0_ult1                   1  int64     drop\n",
       "num_var2_ult1                     1  int64     drop\n",
       "num_reemb_var13_hace3             1  int64     drop\n",
       "num_reemb_var33_hace3             1  int64     drop\n",
       "num_trasp_var17_out_hace3         1  int64     drop\n",
       "num_trasp_var33_out_hace3         1  int64     drop\n",
       "saldo_var2_ult1                   1  int64     drop\n",
       "saldo_medio_var13_medio_hace3     1  int64     drop"
      ]
     },
     "execution_count": 109,
     "metadata": {},
     "output_type": "execute_result"
    }
   ],
   "source": [
    "variables[(variables['cat_cont']=='drop')]"
   ]
  },
  {
   "cell_type": "code",
   "execution_count": null,
   "metadata": {
    "collapsed": false
   },
   "outputs": [],
   "source": [
    "train[train['ind_var2']].value_counts()"
   ]
  },
  {
   "cell_type": "code",
   "execution_count": null,
   "metadata": {
    "collapsed": true
   },
   "outputs": [],
   "source": []
  }
 ],
 "metadata": {
  "anaconda-cloud": {},
  "kernelspec": {
   "display_name": "Python [conda env:gl-env]",
   "language": "python",
   "name": "conda-env-gl-env-py"
  },
  "language_info": {
   "codemirror_mode": {
    "name": "ipython",
    "version": 2
   },
   "file_extension": ".py",
   "mimetype": "text/x-python",
   "name": "python",
   "nbconvert_exporter": "python",
   "pygments_lexer": "ipython2",
   "version": "2.7.11"
  }
 },
 "nbformat": 4,
 "nbformat_minor": 1
}
